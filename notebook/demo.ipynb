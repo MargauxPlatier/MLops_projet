{
 "cells": [
  {
   "cell_type": "code",
   "execution_count": null,
   "metadata": {},
   "outputs": [],
   "source": [
    "import sys\n",
    "sys.path.append('../src')\n",
    "from load_data import load_data \n",
    "from transfo_data import plot_disease_distribution, encode_target\n",
    "from fonctions import split_data,cross_validate_models,train_and_evaluate_model,final_model_training,evaluate_test_data,create_symptom_dict,predict_disease\n",
    "from sklearn.svm import SVC\n",
    "from sklearn.naive_bayes import GaussianNB\n",
    "from sklearn.ensemble import RandomForestClassifier"
   ]
  },
  {
   "cell_type": "code",
   "execution_count": null,
   "metadata": {},
   "outputs": [],
   "source": [
    "# Chargement des jeux de données\n",
    "train_data = load_data(\"../data/Training.csv\")\n",
    "test_data = load_data(\"../data/Testing.csv\")"
   ]
  },
  {
   "cell_type": "code",
   "execution_count": null,
   "metadata": {},
   "outputs": [],
   "source": [
    "# Visualisation de la distribution des maladies sur le jeu d'entraînement\n",
    "plot_disease_distribution(train_data)"
   ]
  },
  {
   "cell_type": "code",
   "execution_count": null,
   "metadata": {},
   "outputs": [],
   "source": [
    "# Encodage des données\n",
    "train_data, encoding = encode_target(train_data)\n",
    "X_train, X_test, y_train, y_test = split_data(train_data)"
   ]
  },
  {
   "cell_type": "code",
   "execution_count": null,
   "metadata": {},
   "outputs": [],
   "source": [
    "# Création des modèles\n",
    "models = {\n",
    "    \"SVC\": SVC(),\n",
    "    \"Gaussian NB\": GaussianNB(),\n",
    "    \"Random Forest\": RandomForestClassifier(random_state=18)\n",
    "}"
   ]
  },
  {
   "cell_type": "code",
   "execution_count": null,
   "metadata": {},
   "outputs": [],
   "source": [
    "# Validation croisée sur les modèles\n",
    "cross_validate_models(models, X_train, y_train)"
   ]
  },
  {
   "cell_type": "code",
   "execution_count": null,
   "metadata": {},
   "outputs": [],
   "source": [
    "# Entraînement et évaluation des modèles\n",
    "train_and_evaluate_model(SVC(), X_train, y_train, X_test, y_test)\n",
    "train_and_evaluate_model(GaussianNB(), X_train, y_train, X_test, y_test)\n",
    "train_and_evaluate_model(RandomForestClassifier(random_state=18), X_train, y_train, X_test, y_test)"
   ]
  },
  {
   "cell_type": "code",
   "execution_count": null,
   "metadata": {},
   "outputs": [],
   "source": [
    "# Entraînement final des modèles sur l'ensemble des données d'entraînement\n",
    "final_svm_model, final_nb_model, final_rf_model = final_model_training(X_train, y_train)"
   ]
  },
  {
   "cell_type": "code",
   "execution_count": null,
   "metadata": {},
   "outputs": [],
   "source": [
    "# Évaluation sur le jeu de données de test\n",
    "evaluate_test_data(\"Testing.csv\", final_svm_model, final_nb_model, final_rf_model, encoding)"
   ]
  },
  {
   "cell_type": "code",
   "execution_count": null,
   "metadata": {},
   "outputs": [],
   "source": [
    "# Création du dictionnaire de symptômes\n",
    "symptom_index = create_symptom_dict(X_train)"
   ]
  },
  {
   "cell_type": "code",
   "execution_count": null,
   "metadata": {},
   "outputs": [],
   "source": [
    "# Exemple de prédiction\n",
    "predictions = predict_disease(\"Itching,Skin Rash,Nodal Skin Eruptions\", symptom_index, final_rf_model, final_nb_model, final_svm_model, encoding.classes_)\n",
    "print(predictions)"
   ]
  }
 ],
 "metadata": {
  "kernelspec": {
   "display_name": "Python 3",
   "language": "python",
   "name": "python3"
  },
  "language_info": {
   "codemirror_mode": {
    "name": "ipython",
    "version": 3
   },
   "file_extension": ".py",
   "mimetype": "text/x-python",
   "name": "python",
   "nbconvert_exporter": "python",
   "pygments_lexer": "ipython3",
   "version": "3.13.0"
  }
 },
 "nbformat": 4,
 "nbformat_minor": 2
}
