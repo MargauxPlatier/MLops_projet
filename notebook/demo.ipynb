{
 "cells": [
  {
   "cell_type": "code",
   "execution_count": null,
   "metadata": {},
   "outputs": [],
   "source": [
    "import sys\n",
    "sys.path.append('../src')\n",
    "from load_data import load_data \n",
    "from transfo_data import plot_disease_distribution, encode_target\n",
    "from fonctions import split_data,cross_validate_models,train_and_evaluate_model\n",
    "from sklearn.svm import SVC\n",
    "from sklearn.naive_bayes import GaussianNB\n",
    "from sklearn.ensemble import RandomForestClassifier"
   ]
  },
  {
   "cell_type": "code",
   "execution_count": null,
   "metadata": {},
   "outputs": [],
   "source": [
    "# Chargement des jeux de données\n",
    "train_data = load_data(\"../data/Training.csv\")\n",
    "test_data = load_data(\"../data/Testing.csv\")\n",
    "# Visualisation de la distribution des maladies sur le jeu d'entraînement\n",
    "#plot_disease_distribution(train_data)\n",
    "# Encodage des données\n",
    "train_data, encoding = encode_target(train_data)\n",
    "X_train, X_test, y_train, y_test = split_data(train_data)\n",
    "# Création des modèles\n",
    "models = {\n",
    "    \"SVC\": SVC(),\n",
    "    \"Gaussian NB\": GaussianNB(),\n",
    "    \"Random Forest\": RandomForestClassifier(random_state=18)\n",
    "}\n",
    "# Validation croisée sur les modèles\n",
    "cross_validate_models(models, X_train, y_train)\n",
    "# Entraînement et évaluation des modèles\n",
    "train_and_evaluate_model(SVC(), X_train, y_train, X_test, y_test)\n",
    "train_and_evaluate_model(GaussianNB(), X_train, y_train, X_test, y_test)\n",
    "train_and_evaluate_model(RandomForestClassifier(random_state=18), X_train, y_train, X_test, y_test)"
   ]
  }
 ],
 "metadata": {
  "kernelspec": {
   "display_name": "Python 3",
   "language": "python",
   "name": "python3"
  },
  "language_info": {
   "codemirror_mode": {
    "name": "ipython",
    "version": 3
   },
   "file_extension": ".py",
   "mimetype": "text/x-python",
   "name": "python",
   "nbconvert_exporter": "python",
   "pygments_lexer": "ipython3",
   "version": "3.13.0"
  }
 },
 "nbformat": 4,
 "nbformat_minor": 2
}
